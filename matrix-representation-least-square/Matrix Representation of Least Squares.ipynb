{
 "cells": [
  {
   "cell_type": "markdown",
   "metadata": {},
   "source": [
    "Matrix Representation of Least Square Estimates"
   ]
  },
  {
   "cell_type": "markdown",
   "metadata": {},
   "source": [
    "# Data\n",
    "\n",
    "The data used is available on Kaggle. https://www.kaggle.com/joelwilson/2012-2016-presidential-elections/data\n",
    "\n",
    "I created an abreviated version of the csv, with one outcome variable and 4 explanatory variable.\n",
    "\n",
    "The explanatory and outcome variable were picked to be numeric. \n",
    "\n",
    "| Col        | Type           | Description  |\n",
    "| ------------- |:-------------:| -----:|\n",
    "| 1      | Outcome | Share of Trump Votes in 2016 |\n",
    "| 2      | Explanatory      |  Share of county aged over 65  |\n",
    "| 3 | Explanatory      |   Share of blacks in county  |\n",
    "| 4 | Explanatory      |  Share of people in county with bachelors degrees   |\n",
    "| 5 | Explanatory      |  Average income in county   |\n",
    "\n",
    "Each Row represents a county."
   ]
  },
  {
   "cell_type": "code",
   "execution_count": 87,
   "metadata": {},
   "outputs": [
    {
     "name": "stdout",
     "output_type": "stream",
     "text": [
      "[[  9.96587573e-02   1.44000000e+01   1.83000000e-01   5.89000000e+01\n",
      "    6.24980000e+04]\n",
      " [  1.68881552e-01   9.30000000e+00   9.10000000e-02   7.17000000e+01\n",
      "    6.20180000e+04]\n",
      " [  1.72557715e-01   1.14000000e+01   5.30000000e-02   7.44000000e+01\n",
      "    5.90880000e+04]\n",
      " ..., \n",
      " [  2.29176471e-01   7.30000000e+00   3.00000000e-03   1.24000000e+01\n",
      "    1.05750000e+04]\n",
      " [  6.76022835e-01   1.28000000e+01   3.84000000e-01   8.50000000e+00\n",
      "    8.94800000e+03]\n",
      " [  8.32182320e-02   6.80000000e+00   2.00000000e-03   1.18000000e+01\n",
      "    8.76800000e+03]]\n"
     ]
    }
   ],
   "source": [
    "from numpy import genfromtxt\n",
    "my_data = genfromtxt('voteSimplified.csv', delimiter=',')\n",
    "print(my_data)"
   ]
  },
  {
   "cell_type": "markdown",
   "metadata": {},
   "source": [
    "The first column y is the outcome variable. We need to make it's own vector"
   ]
  },
  {
   "cell_type": "code",
   "execution_count": 88,
   "metadata": {},
   "outputs": [
    {
     "name": "stdout",
     "output_type": "stream",
     "text": [
      "[[ 0.09965876]\n",
      " [ 0.16888155]\n",
      " [ 0.17255771]\n",
      " ..., \n",
      " [ 0.22917647]\n",
      " [ 0.67602284]\n",
      " [ 0.08321823]]\n"
     ]
    }
   ],
   "source": [
    "y = numpy.transpose(numpy.matrix(my_data[:,0]))\n",
    "print(y)"
   ]
  },
  {
   "cell_type": "markdown",
   "metadata": {},
   "source": [
    "We put the explanatory variables in an array X and add a first column of 1s to the array"
   ]
  },
  {
   "cell_type": "code",
   "execution_count": 89,
   "metadata": {},
   "outputs": [
    {
     "name": "stdout",
     "output_type": "stream",
     "text": [
      "[[  1.44000000e+01   1.83000000e-01   5.89000000e+01   6.24980000e+04]\n",
      " [  9.30000000e+00   9.10000000e-02   7.17000000e+01   6.20180000e+04]\n",
      " [  1.14000000e+01   5.30000000e-02   7.44000000e+01   5.90880000e+04]\n",
      " ..., \n",
      " [  7.30000000e+00   3.00000000e-03   1.24000000e+01   1.05750000e+04]\n",
      " [  1.28000000e+01   3.84000000e-01   8.50000000e+00   8.94800000e+03]\n",
      " [  6.80000000e+00   2.00000000e-03   1.18000000e+01   8.76800000e+03]]\n"
     ]
    }
   ],
   "source": [
    "X = my_data[:,1:5]\n",
    "print(X)"
   ]
  },
  {
   "cell_type": "code",
   "execution_count": 90,
   "metadata": {},
   "outputs": [
    {
     "name": "stdout",
     "output_type": "stream",
     "text": [
      "[[  1.00000000e+00   1.44000000e+01   1.83000000e-01   5.89000000e+01\n",
      "    6.24980000e+04]\n",
      " [  1.00000000e+00   9.30000000e+00   9.10000000e-02   7.17000000e+01\n",
      "    6.20180000e+04]\n",
      " [  1.00000000e+00   1.14000000e+01   5.30000000e-02   7.44000000e+01\n",
      "    5.90880000e+04]\n",
      " ..., \n",
      " [  1.00000000e+00   7.30000000e+00   3.00000000e-03   1.24000000e+01\n",
      "    1.05750000e+04]\n",
      " [  1.00000000e+00   1.28000000e+01   3.84000000e-01   8.50000000e+00\n",
      "    8.94800000e+03]\n",
      " [  1.00000000e+00   6.80000000e+00   2.00000000e-03   1.18000000e+01\n",
      "    8.76800000e+03]]\n"
     ]
    }
   ],
   "source": [
    "import numpy\n",
    "ones = numpy.ones((numpy.shape(X)[0], 1), dtype = float)\n",
    "X = numpy.concatenate((ones,X),axis=1)\n",
    "X = numpy.matrix(X)\n",
    "print(X)"
   ]
  },
  {
   "cell_type": "markdown",
   "metadata": {},
   "source": [
    "Let's start by finding $\\hat{\\beta}$"
   ]
  },
  {
   "cell_type": "code",
   "execution_count": 92,
   "metadata": {},
   "outputs": [
    {
     "name": "stdout",
     "output_type": "stream",
     "text": [
      "[[  7.40014001e-01]\n",
      " [  3.15253921e-03]\n",
      " [ -4.56060410e-01]\n",
      " [ -1.09702672e-02]\n",
      " [  4.22347768e-06]]\n"
     ]
    }
   ],
   "source": [
    "import numpy.linalg\n",
    "beta_hat = numpy.linalg.inv(numpy.transpose(X) * X) * numpy.transpose(X) * y\n",
    "print(beta_hat)"
   ]
  },
  {
   "cell_type": "markdown",
   "metadata": {},
   "source": [
    "We can then find the hat matrix\n",
    "$H = X(X^TX)^{-1}X^T$"
   ]
  },
  {
   "cell_type": "code",
   "execution_count": 93,
   "metadata": {},
   "outputs": [
    {
     "name": "stdout",
     "output_type": "stream",
     "text": [
      "[[ 0.01950196  0.01715852  0.01469296 ..., -0.00672144 -0.00515253\n",
      "  -0.00772863]\n",
      " [ 0.01715852  0.01722554  0.01572578 ..., -0.00439431 -0.00440652\n",
      "  -0.00509817]\n",
      " [ 0.01469296  0.01572578  0.01504994 ..., -0.00371311 -0.00388272\n",
      "  -0.00423957]\n",
      " ..., \n",
      " [-0.00672144 -0.00439431 -0.00371311 ...,  0.00547984  0.00283227\n",
      "   0.00599284]\n",
      " [-0.00515253 -0.00440652 -0.00388272 ...,  0.00283227  0.00367245\n",
      "   0.00318662]\n",
      " [-0.00772863 -0.00509817 -0.00423957 ...,  0.00599284  0.00318662\n",
      "   0.00657607]]\n"
     ]
    }
   ],
   "source": [
    "H = X * numpy.linalg.inv(numpy.transpose(X) * X) * numpy.transpose(X)\n",
    "print(H)"
   ]
  },
  {
   "cell_type": "markdown",
   "metadata": {},
   "source": [
    "Next we compute $\\hat{y}$"
   ]
  },
  {
   "cell_type": "code",
   "execution_count": 94,
   "metadata": {},
   "outputs": [
    {
     "name": "stdout",
     "output_type": "stream",
     "text": [
      "[[ 0.31976168]\n",
      " [ 0.2031946 ]\n",
      " [ 0.18515072]\n",
      " ..., \n",
      " [ 0.67029132]\n",
      " [ 0.54978371]\n",
      " [ 0.66812145]]\n"
     ]
    }
   ],
   "source": [
    "y_hat = H * y\n",
    "print(y_hat)"
   ]
  },
  {
   "cell_type": "markdown",
   "metadata": {},
   "source": [
    "We can also compute $\\beta$"
   ]
  },
  {
   "cell_type": "markdown",
   "metadata": {},
   "source": [
    "We can compute the residuals $\\hat{\\epsilon}$"
   ]
  },
  {
   "cell_type": "code",
   "execution_count": 95,
   "metadata": {},
   "outputs": [
    {
     "name": "stdout",
     "output_type": "stream",
     "text": [
      "[[-0.22010292]\n",
      " [-0.03431305]\n",
      " [-0.012593  ]\n",
      " ..., \n",
      " [-0.44111485]\n",
      " [ 0.12623912]\n",
      " [-0.58490321]]\n"
     ]
    }
   ],
   "source": [
    "epsilon_hat = y - y_hat\n",
    "print(epsilon_hat)"
   ]
  },
  {
   "cell_type": "markdown",
   "metadata": {},
   "source": [
    "The residual sum of squares is then"
   ]
  },
  {
   "cell_type": "code",
   "execution_count": 96,
   "metadata": {},
   "outputs": [
    {
     "name": "stdout",
     "output_type": "stream",
     "text": [
      "[[ 40.06290365]]\n"
     ]
    }
   ],
   "source": [
    "rss = numpy.transpose(epsilon_hat) * epsilon_hat\n",
    "print(rss)"
   ]
  }
 ],
 "metadata": {
  "kernelspec": {
   "display_name": "Python 3",
   "language": "python",
   "name": "python3"
  },
  "language_info": {
   "codemirror_mode": {
    "name": "ipython",
    "version": 3
   },
   "file_extension": ".py",
   "mimetype": "text/x-python",
   "name": "python",
   "nbconvert_exporter": "python",
   "pygments_lexer": "ipython3",
   "version": "3.6.1"
  }
 },
 "nbformat": 4,
 "nbformat_minor": 2
}
